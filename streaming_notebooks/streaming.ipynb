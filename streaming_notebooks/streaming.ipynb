{
 "cells": [
  {
   "cell_type": "markdown",
   "metadata": {
    "application/vnd.databricks.v1+cell": {
     "cellMetadata": {},
     "inputWidgets": {},
     "nuid": "28748be1-8e45-4ecf-979f-9fe869406bae",
     "showTitle": false,
     "tableResultSettingsMap": {},
     "title": ""
    }
   },
   "source": [
    "# Read Jsons Data (Batch)"
   ]
  },
  {
   "cell_type": "code",
   "execution_count": 0,
   "metadata": {
    "application/vnd.databricks.v1+cell": {
     "cellMetadata": {
      "byteLimit": 2048000,
      "rowLimit": 10000
     },
     "inputWidgets": {},
     "nuid": "ac312e88-e755-48fd-ad3a-b208401e24e2",
     "showTitle": false,
     "tableResultSettingsMap": {},
     "title": ""
    }
   },
   "outputs": [],
   "source": [
    "from pyspark.sql.functions import *\n",
    "from pyspark.sql.types import *"
   ]
  },
  {
   "cell_type": "code",
   "execution_count": 0,
   "metadata": {
    "application/vnd.databricks.v1+cell": {
     "cellMetadata": {
      "byteLimit": 2048000,
      "rowLimit": 10000
     },
     "inputWidgets": {},
     "nuid": "64abfad5-849a-4a42-bdae-b9bd11e21bdc",
     "showTitle": false,
     "tableResultSettingsMap": {},
     "title": ""
    }
   },
   "outputs": [
    {
     "output_type": "display_data",
     "data": {
      "text/html": [
       "<style scoped>\n",
       "  .table-result-container {\n",
       "    max-height: 300px;\n",
       "    overflow: auto;\n",
       "  }\n",
       "  table, th, td {\n",
       "    border: 1px solid black;\n",
       "    border-collapse: collapse;\n",
       "  }\n",
       "  th, td {\n",
       "    padding: 5px;\n",
       "  }\n",
       "  th {\n",
       "    text-align: left;\n",
       "  }\n",
       "</style><div class='table-result-container'><table class='table-result'><thead style='background-color: white'><tr><th>customer</th><th>items</th><th>metadata</th><th>order_id</th><th>payment</th><th>timestamp</th></tr></thead><tbody><tr><td>List(List(Toronto, Canada, M5H 2N2), 501, john@example.com, John Doe)</td><td>List(List(I100, 25.99, Wireless Mouse, 2), List(I101, 15.49, USB-C Adapter, 1))</td><td>List(List(campaign, back_to_school), List(channel, email))</td><td>ORD1001</td><td>List(Credit Card, TXN7890)</td><td>2025-06-01T10:15:00Z</td></tr></tbody></table></div>"
      ]
     },
     "metadata": {
      "application/vnd.databricks.v1+output": {
       "addedWidgets": {},
       "aggData": [],
       "aggError": "",
       "aggOverflow": false,
       "aggSchema": [],
       "aggSeriesLimitReached": false,
       "aggType": "",
       "arguments": {},
       "columnCustomDisplayInfos": {},
       "data": [
        [
         [
          [
           "Toronto",
           "Canada",
           "M5H 2N2"
          ],
          501,
          "john@example.com",
          "John Doe"
         ],
         [
          [
           "I100",
           25.99,
           "Wireless Mouse",
           2
          ],
          [
           "I101",
           15.49,
           "USB-C Adapter",
           1
          ]
         ],
         [
          [
           "campaign",
           "back_to_school"
          ],
          [
           "channel",
           "email"
          ]
         ],
         "ORD1001",
         [
          "Credit Card",
          "TXN7890"
         ],
         "2025-06-01T10:15:00Z"
        ]
       ],
       "datasetInfos": [],
       "dbfsResultPath": null,
       "isJsonSchema": true,
       "metadata": {},
       "overflow": false,
       "plotOptions": {
        "customPlotOptions": {},
        "displayType": "table",
        "pivotAggregation": null,
        "pivotColumns": null,
        "xColumns": null,
        "yColumns": null
       },
       "removedWidgets": [],
       "schema": [
        {
         "metadata": "{}",
         "name": "customer",
         "type": "{\"fields\":[{\"metadata\":{},\"name\":\"address\",\"nullable\":true,\"type\":{\"fields\":[{\"metadata\":{},\"name\":\"city\",\"nullable\":true,\"type\":\"string\"},{\"metadata\":{},\"name\":\"country\",\"nullable\":true,\"type\":\"string\"},{\"metadata\":{},\"name\":\"postal_code\",\"nullable\":true,\"type\":\"string\"}],\"type\":\"struct\"}},{\"metadata\":{},\"name\":\"customer_id\",\"nullable\":true,\"type\":\"long\"},{\"metadata\":{},\"name\":\"email\",\"nullable\":true,\"type\":\"string\"},{\"metadata\":{},\"name\":\"name\",\"nullable\":true,\"type\":\"string\"}],\"type\":\"struct\"}"
        },
        {
         "metadata": "{}",
         "name": "items",
         "type": "{\"containsNull\":true,\"elementType\":{\"fields\":[{\"metadata\":{},\"name\":\"item_id\",\"nullable\":true,\"type\":\"string\"},{\"metadata\":{},\"name\":\"price\",\"nullable\":true,\"type\":\"double\"},{\"metadata\":{},\"name\":\"product_name\",\"nullable\":true,\"type\":\"string\"},{\"metadata\":{},\"name\":\"quantity\",\"nullable\":true,\"type\":\"long\"}],\"type\":\"struct\"},\"type\":\"array\"}"
        },
        {
         "metadata": "{}",
         "name": "metadata",
         "type": "{\"containsNull\":true,\"elementType\":{\"fields\":[{\"metadata\":{},\"name\":\"key\",\"nullable\":true,\"type\":\"string\"},{\"metadata\":{},\"name\":\"value\",\"nullable\":true,\"type\":\"string\"}],\"type\":\"struct\"},\"type\":\"array\"}"
        },
        {
         "metadata": "{}",
         "name": "order_id",
         "type": "\"string\""
        },
        {
         "metadata": "{}",
         "name": "payment",
         "type": "{\"fields\":[{\"metadata\":{},\"name\":\"method\",\"nullable\":true,\"type\":\"string\"},{\"metadata\":{},\"name\":\"transaction_id\",\"nullable\":true,\"type\":\"string\"}],\"type\":\"struct\"}"
        },
        {
         "metadata": "{}",
         "name": "timestamp",
         "type": "\"string\""
        }
       ],
       "type": "table"
      }
     },
     "output_type": "display_data"
    }
   ],
   "source": [
    "#df = spark.read.format(\"json\")\\\n",
    "#            .option(\"inferShcema\",True)\\\n",
    " #           .option(\"multiline\",True)\\\n",
    "  #          .load(\"/Volumes/workspace/stream/streaming/jsonsource/\")\n",
    "\n",
    "#display(df)"
   ]
  },
  {
   "cell_type": "code",
   "execution_count": 0,
   "metadata": {
    "application/vnd.databricks.v1+cell": {
     "cellMetadata": {
      "byteLimit": 2048000,
      "rowLimit": 10000
     },
     "inputWidgets": {},
     "nuid": "3e5bcc33-3b73-4151-a880-281a24cbaaac",
     "showTitle": false,
     "tableResultSettingsMap": {},
     "title": ""
    }
   },
   "outputs": [
    {
     "output_type": "stream",
     "name": "stdout",
     "output_type": "stream",
     "text": [
      "root\n |-- customer: struct (nullable = true)\n |    |-- address: struct (nullable = true)\n |    |    |-- city: string (nullable = true)\n |    |    |-- country: string (nullable = true)\n |    |    |-- postal_code: string (nullable = true)\n |    |-- customer_id: long (nullable = true)\n |    |-- email: string (nullable = true)\n |    |-- name: string (nullable = true)\n |-- items: array (nullable = true)\n |    |-- element: struct (containsNull = true)\n |    |    |-- item_id: string (nullable = true)\n |    |    |-- price: double (nullable = true)\n |    |    |-- product_name: string (nullable = true)\n |    |    |-- quantity: long (nullable = true)\n |-- metadata: array (nullable = true)\n |    |-- element: struct (containsNull = true)\n |    |    |-- key: string (nullable = true)\n |    |    |-- value: string (nullable = true)\n |-- order_id: string (nullable = true)\n |-- payment: struct (nullable = true)\n |    |-- method: string (nullable = true)\n |    |-- transaction_id: string (nullable = true)\n |-- timestamp: string (nullable = true)\n\n"
     ]
    }
   ],
   "source": [
    "df.printSchema()"
   ]
  },
  {
   "cell_type": "code",
   "execution_count": 0,
   "metadata": {
    "application/vnd.databricks.v1+cell": {
     "cellMetadata": {
      "byteLimit": 2048000,
      "rowLimit": 10000
     },
     "inputWidgets": {},
     "nuid": "1eacfbc9-8e0f-46f7-9230-da757ea2d26a",
     "showTitle": false,
     "tableResultSettingsMap": {
      "0": {
       "dataGridStateBlob": "{\"version\":1,\"tableState\":{\"columnPinning\":{\"left\":[\"#row_number#\"],\"right\":[]},\"columnSizing\":{},\"columnVisibility\":{}},\"settings\":{\"columns\":{}},\"syncTimestamp\":1753877170033}",
       "filterBlob": null,
       "queryPlanFiltersBlob": null,
       "tableResultIndex": 0
      }
     },
     "title": ""
    }
   },
   "outputs": [
    {
     "output_type": "display_data",
     "data": {
      "text/html": [
       "<style scoped>\n",
       "  .table-result-container {\n",
       "    max-height: 300px;\n",
       "    overflow: auto;\n",
       "  }\n",
       "  table, th, td {\n",
       "    border: 1px solid black;\n",
       "    border-collapse: collapse;\n",
       "  }\n",
       "  th, td {\n",
       "    padding: 5px;\n",
       "  }\n",
       "  th {\n",
       "    text-align: left;\n",
       "  }\n",
       "</style><div class='table-result-container'><table class='table-result'><thead style='background-color: white'><tr><th>order_id</th><th>timestamp</th><th>customer_id</th><th>name</th><th>email</th><th>city</th><th>country</th><th>postal_code</th><th>items</th><th>method</th><th>transaction_id</th><th>metadata</th></tr></thead><tbody><tr><td>ORD1001</td><td>2025-06-01T10:15:00Z</td><td>501</td><td>John Doe</td><td>john@example.com</td><td>Toronto</td><td>Canada</td><td>M5H 2N2</td><td>List(I100, 25.99, Wireless Mouse, 2)</td><td>Credit Card</td><td>TXN7890</td><td>List(List(campaign, back_to_school), List(channel, email))</td></tr><tr><td>ORD1001</td><td>2025-06-01T10:15:00Z</td><td>501</td><td>John Doe</td><td>john@example.com</td><td>Toronto</td><td>Canada</td><td>M5H 2N2</td><td>List(I101, 15.49, USB-C Adapter, 1)</td><td>Credit Card</td><td>TXN7890</td><td>List(List(campaign, back_to_school), List(channel, email))</td></tr></tbody></table></div>"
      ]
     },
     "metadata": {
      "application/vnd.databricks.v1+output": {
       "addedWidgets": {},
       "aggData": [],
       "aggError": "",
       "aggOverflow": false,
       "aggSchema": [],
       "aggSeriesLimitReached": false,
       "aggType": "",
       "arguments": {},
       "columnCustomDisplayInfos": {},
       "data": [
        [
         "ORD1001",
         "2025-06-01T10:15:00Z",
         501,
         "John Doe",
         "john@example.com",
         "Toronto",
         "Canada",
         "M5H 2N2",
         [
          "I100",
          25.99,
          "Wireless Mouse",
          2
         ],
         "Credit Card",
         "TXN7890",
         [
          [
           "campaign",
           "back_to_school"
          ],
          [
           "channel",
           "email"
          ]
         ]
        ],
        [
         "ORD1001",
         "2025-06-01T10:15:00Z",
         501,
         "John Doe",
         "john@example.com",
         "Toronto",
         "Canada",
         "M5H 2N2",
         [
          "I101",
          15.49,
          "USB-C Adapter",
          1
         ],
         "Credit Card",
         "TXN7890",
         [
          [
           "campaign",
           "back_to_school"
          ],
          [
           "channel",
           "email"
          ]
         ]
        ]
       ],
       "datasetInfos": [],
       "dbfsResultPath": null,
       "isJsonSchema": true,
       "metadata": {},
       "overflow": false,
       "plotOptions": {
        "customPlotOptions": {},
        "displayType": "table",
        "pivotAggregation": null,
        "pivotColumns": null,
        "xColumns": null,
        "yColumns": null
       },
       "removedWidgets": [],
       "schema": [
        {
         "metadata": "{}",
         "name": "order_id",
         "type": "\"string\""
        },
        {
         "metadata": "{}",
         "name": "timestamp",
         "type": "\"string\""
        },
        {
         "metadata": "{}",
         "name": "customer_id",
         "type": "\"long\""
        },
        {
         "metadata": "{}",
         "name": "name",
         "type": "\"string\""
        },
        {
         "metadata": "{}",
         "name": "email",
         "type": "\"string\""
        },
        {
         "metadata": "{}",
         "name": "city",
         "type": "\"string\""
        },
        {
         "metadata": "{}",
         "name": "country",
         "type": "\"string\""
        },
        {
         "metadata": "{}",
         "name": "postal_code",
         "type": "\"string\""
        },
        {
         "metadata": "{}",
         "name": "items",
         "type": "{\"fields\":[{\"metadata\":{},\"name\":\"item_id\",\"nullable\":true,\"type\":\"string\"},{\"metadata\":{},\"name\":\"price\",\"nullable\":true,\"type\":\"double\"},{\"metadata\":{},\"name\":\"product_name\",\"nullable\":true,\"type\":\"string\"},{\"metadata\":{},\"name\":\"quantity\",\"nullable\":true,\"type\":\"long\"}],\"type\":\"struct\"}"
        },
        {
         "metadata": "{}",
         "name": "method",
         "type": "\"string\""
        },
        {
         "metadata": "{}",
         "name": "transaction_id",
         "type": "\"string\""
        },
        {
         "metadata": "{}",
         "name": "metadata",
         "type": "{\"containsNull\":true,\"elementType\":{\"fields\":[{\"metadata\":{},\"name\":\"key\",\"nullable\":true,\"type\":\"string\"},{\"metadata\":{},\"name\":\"value\",\"nullable\":true,\"type\":\"string\"}],\"type\":\"struct\"},\"type\":\"array\"}"
        }
       ],
       "type": "table"
      }
     },
     "output_type": "display_data"
    }
   ],
   "source": [
    "#df = df.select(\"order_id\", \"timestamp\",\"customer.customer_id\",\"customer.name\",\"customer.email\",\"customer.address.city\",\"customer.address.country\",\"customer.address.postal_code\", \"items\", \"payment.method\", \"payment.transaction_id\", \"metadata\")\n",
    "\n",
    "#df = df.withColumn(\"items\", explode_outer(\"items\"))\n",
    "#display(df)\n"
   ]
  },
  {
   "cell_type": "code",
   "execution_count": 0,
   "metadata": {
    "application/vnd.databricks.v1+cell": {
     "cellMetadata": {
      "byteLimit": 2048000,
      "rowLimit": 10000
     },
     "inputWidgets": {},
     "nuid": "89fbb19f-f6f9-4bd0-8638-92dff1adc07d",
     "showTitle": false,
     "tableResultSettingsMap": {},
     "title": ""
    }
   },
   "outputs": [
    {
     "output_type": "display_data",
     "data": {
      "text/html": [
       "<style scoped>\n",
       "  .table-result-container {\n",
       "    max-height: 300px;\n",
       "    overflow: auto;\n",
       "  }\n",
       "  table, th, td {\n",
       "    border: 1px solid black;\n",
       "    border-collapse: collapse;\n",
       "  }\n",
       "  th, td {\n",
       "    padding: 5px;\n",
       "  }\n",
       "  th {\n",
       "    text-align: left;\n",
       "  }\n",
       "</style><div class='table-result-container'><table class='table-result'><thead style='background-color: white'><tr><th>order_id</th><th>timestamp</th><th>customer_id</th><th>name</th><th>email</th><th>city</th><th>country</th><th>postal_code</th><th>item_id</th><th>price</th><th>product_name</th><th>quantity</th><th>method</th><th>transaction_id</th><th>metadata</th></tr></thead><tbody><tr><td>ORD1001</td><td>2025-06-01T10:15:00Z</td><td>501</td><td>John Doe</td><td>john@example.com</td><td>Toronto</td><td>Canada</td><td>M5H 2N2</td><td>I100</td><td>25.99</td><td>Wireless Mouse</td><td>2</td><td>Credit Card</td><td>TXN7890</td><td>List(List(campaign, back_to_school), List(channel, email))</td></tr><tr><td>ORD1001</td><td>2025-06-01T10:15:00Z</td><td>501</td><td>John Doe</td><td>john@example.com</td><td>Toronto</td><td>Canada</td><td>M5H 2N2</td><td>I101</td><td>15.49</td><td>USB-C Adapter</td><td>1</td><td>Credit Card</td><td>TXN7890</td><td>List(List(campaign, back_to_school), List(channel, email))</td></tr></tbody></table></div>"
      ]
     },
     "metadata": {
      "application/vnd.databricks.v1+output": {
       "addedWidgets": {},
       "aggData": [],
       "aggError": "",
       "aggOverflow": false,
       "aggSchema": [],
       "aggSeriesLimitReached": false,
       "aggType": "",
       "arguments": {},
       "columnCustomDisplayInfos": {},
       "data": [
        [
         "ORD1001",
         "2025-06-01T10:15:00Z",
         501,
         "John Doe",
         "john@example.com",
         "Toronto",
         "Canada",
         "M5H 2N2",
         "I100",
         25.99,
         "Wireless Mouse",
         2,
         "Credit Card",
         "TXN7890",
         [
          [
           "campaign",
           "back_to_school"
          ],
          [
           "channel",
           "email"
          ]
         ]
        ],
        [
         "ORD1001",
         "2025-06-01T10:15:00Z",
         501,
         "John Doe",
         "john@example.com",
         "Toronto",
         "Canada",
         "M5H 2N2",
         "I101",
         15.49,
         "USB-C Adapter",
         1,
         "Credit Card",
         "TXN7890",
         [
          [
           "campaign",
           "back_to_school"
          ],
          [
           "channel",
           "email"
          ]
         ]
        ]
       ],
       "datasetInfos": [],
       "dbfsResultPath": null,
       "isJsonSchema": true,
       "metadata": {},
       "overflow": false,
       "plotOptions": {
        "customPlotOptions": {},
        "displayType": "table",
        "pivotAggregation": null,
        "pivotColumns": null,
        "xColumns": null,
        "yColumns": null
       },
       "removedWidgets": [],
       "schema": [
        {
         "metadata": "{}",
         "name": "order_id",
         "type": "\"string\""
        },
        {
         "metadata": "{}",
         "name": "timestamp",
         "type": "\"string\""
        },
        {
         "metadata": "{}",
         "name": "customer_id",
         "type": "\"long\""
        },
        {
         "metadata": "{}",
         "name": "name",
         "type": "\"string\""
        },
        {
         "metadata": "{}",
         "name": "email",
         "type": "\"string\""
        },
        {
         "metadata": "{}",
         "name": "city",
         "type": "\"string\""
        },
        {
         "metadata": "{}",
         "name": "country",
         "type": "\"string\""
        },
        {
         "metadata": "{}",
         "name": "postal_code",
         "type": "\"string\""
        },
        {
         "metadata": "{}",
         "name": "item_id",
         "type": "\"string\""
        },
        {
         "metadata": "{}",
         "name": "price",
         "type": "\"double\""
        },
        {
         "metadata": "{}",
         "name": "product_name",
         "type": "\"string\""
        },
        {
         "metadata": "{}",
         "name": "quantity",
         "type": "\"long\""
        },
        {
         "metadata": "{}",
         "name": "method",
         "type": "\"string\""
        },
        {
         "metadata": "{}",
         "name": "transaction_id",
         "type": "\"string\""
        },
        {
         "metadata": "{}",
         "name": "metadata",
         "type": "{\"containsNull\":true,\"elementType\":{\"fields\":[{\"metadata\":{},\"name\":\"key\",\"nullable\":true,\"type\":\"string\"},{\"metadata\":{},\"name\":\"value\",\"nullable\":true,\"type\":\"string\"}],\"type\":\"struct\"},\"type\":\"array\"}"
        }
       ],
       "type": "table"
      }
     },
     "output_type": "display_data"
    }
   ],
   "source": [
    "#df = df.select(\"order_id\", \"timestamp\", \"customer_id\", \"name\", \"email\", \"city\", \"country\", \"postal_code\", \"items.item_id\", \"items.price\", \"items.product_name\", \"items.quantity\", \"method\", \"transaction_id\", \"metadata\")\n",
    "\n",
    "#display(df)"
   ]
  },
  {
   "cell_type": "code",
   "execution_count": 0,
   "metadata": {
    "application/vnd.databricks.v1+cell": {
     "cellMetadata": {
      "byteLimit": 2048000,
      "rowLimit": 10000
     },
     "inputWidgets": {},
     "nuid": "c16e825b-8267-4cc6-9abd-7f91ec7f81aa",
     "showTitle": false,
     "tableResultSettingsMap": {},
     "title": ""
    }
   },
   "outputs": [
    {
     "output_type": "display_data",
     "data": {
      "text/html": [
       "<style scoped>\n",
       "  .table-result-container {\n",
       "    max-height: 300px;\n",
       "    overflow: auto;\n",
       "  }\n",
       "  table, th, td {\n",
       "    border: 1px solid black;\n",
       "    border-collapse: collapse;\n",
       "  }\n",
       "  th, td {\n",
       "    padding: 5px;\n",
       "  }\n",
       "  th {\n",
       "    text-align: left;\n",
       "  }\n",
       "</style><div class='table-result-container'><table class='table-result'><thead style='background-color: white'><tr><th>order_id</th><th>timestamp</th><th>customer_id</th><th>name</th><th>email</th><th>city</th><th>country</th><th>postal_code</th><th>item_id</th><th>price</th><th>product_name</th><th>quantity</th><th>method</th><th>transaction_id</th><th>metadata</th></tr></thead><tbody><tr><td>ORD1001</td><td>2025-06-01T10:15:00Z</td><td>501</td><td>John Doe</td><td>john@example.com</td><td>Toronto</td><td>Canada</td><td>M5H 2N2</td><td>I100</td><td>25.99</td><td>Wireless Mouse</td><td>2</td><td>Credit Card</td><td>TXN7890</td><td>List(campaign, back_to_school)</td></tr><tr><td>ORD1001</td><td>2025-06-01T10:15:00Z</td><td>501</td><td>John Doe</td><td>john@example.com</td><td>Toronto</td><td>Canada</td><td>M5H 2N2</td><td>I100</td><td>25.99</td><td>Wireless Mouse</td><td>2</td><td>Credit Card</td><td>TXN7890</td><td>List(channel, email)</td></tr><tr><td>ORD1001</td><td>2025-06-01T10:15:00Z</td><td>501</td><td>John Doe</td><td>john@example.com</td><td>Toronto</td><td>Canada</td><td>M5H 2N2</td><td>I101</td><td>15.49</td><td>USB-C Adapter</td><td>1</td><td>Credit Card</td><td>TXN7890</td><td>List(campaign, back_to_school)</td></tr><tr><td>ORD1001</td><td>2025-06-01T10:15:00Z</td><td>501</td><td>John Doe</td><td>john@example.com</td><td>Toronto</td><td>Canada</td><td>M5H 2N2</td><td>I101</td><td>15.49</td><td>USB-C Adapter</td><td>1</td><td>Credit Card</td><td>TXN7890</td><td>List(channel, email)</td></tr></tbody></table></div>"
      ]
     },
     "metadata": {
      "application/vnd.databricks.v1+output": {
       "addedWidgets": {},
       "aggData": [],
       "aggError": "",
       "aggOverflow": false,
       "aggSchema": [],
       "aggSeriesLimitReached": false,
       "aggType": "",
       "arguments": {},
       "columnCustomDisplayInfos": {},
       "data": [
        [
         "ORD1001",
         "2025-06-01T10:15:00Z",
         501,
         "John Doe",
         "john@example.com",
         "Toronto",
         "Canada",
         "M5H 2N2",
         "I100",
         25.99,
         "Wireless Mouse",
         2,
         "Credit Card",
         "TXN7890",
         [
          "campaign",
          "back_to_school"
         ]
        ],
        [
         "ORD1001",
         "2025-06-01T10:15:00Z",
         501,
         "John Doe",
         "john@example.com",
         "Toronto",
         "Canada",
         "M5H 2N2",
         "I100",
         25.99,
         "Wireless Mouse",
         2,
         "Credit Card",
         "TXN7890",
         [
          "channel",
          "email"
         ]
        ],
        [
         "ORD1001",
         "2025-06-01T10:15:00Z",
         501,
         "John Doe",
         "john@example.com",
         "Toronto",
         "Canada",
         "M5H 2N2",
         "I101",
         15.49,
         "USB-C Adapter",
         1,
         "Credit Card",
         "TXN7890",
         [
          "campaign",
          "back_to_school"
         ]
        ],
        [
         "ORD1001",
         "2025-06-01T10:15:00Z",
         501,
         "John Doe",
         "john@example.com",
         "Toronto",
         "Canada",
         "M5H 2N2",
         "I101",
         15.49,
         "USB-C Adapter",
         1,
         "Credit Card",
         "TXN7890",
         [
          "channel",
          "email"
         ]
        ]
       ],
       "datasetInfos": [],
       "dbfsResultPath": null,
       "isJsonSchema": true,
       "metadata": {},
       "overflow": false,
       "plotOptions": {
        "customPlotOptions": {},
        "displayType": "table",
        "pivotAggregation": null,
        "pivotColumns": null,
        "xColumns": null,
        "yColumns": null
       },
       "removedWidgets": [],
       "schema": [
        {
         "metadata": "{}",
         "name": "order_id",
         "type": "\"string\""
        },
        {
         "metadata": "{}",
         "name": "timestamp",
         "type": "\"string\""
        },
        {
         "metadata": "{}",
         "name": "customer_id",
         "type": "\"long\""
        },
        {
         "metadata": "{}",
         "name": "name",
         "type": "\"string\""
        },
        {
         "metadata": "{}",
         "name": "email",
         "type": "\"string\""
        },
        {
         "metadata": "{}",
         "name": "city",
         "type": "\"string\""
        },
        {
         "metadata": "{}",
         "name": "country",
         "type": "\"string\""
        },
        {
         "metadata": "{}",
         "name": "postal_code",
         "type": "\"string\""
        },
        {
         "metadata": "{}",
         "name": "item_id",
         "type": "\"string\""
        },
        {
         "metadata": "{}",
         "name": "price",
         "type": "\"double\""
        },
        {
         "metadata": "{}",
         "name": "product_name",
         "type": "\"string\""
        },
        {
         "metadata": "{}",
         "name": "quantity",
         "type": "\"long\""
        },
        {
         "metadata": "{}",
         "name": "method",
         "type": "\"string\""
        },
        {
         "metadata": "{}",
         "name": "transaction_id",
         "type": "\"string\""
        },
        {
         "metadata": "{}",
         "name": "metadata",
         "type": "{\"fields\":[{\"metadata\":{},\"name\":\"key\",\"nullable\":true,\"type\":\"string\"},{\"metadata\":{},\"name\":\"value\",\"nullable\":true,\"type\":\"string\"}],\"type\":\"struct\"}"
        }
       ],
       "type": "table"
      }
     },
     "output_type": "display_data"
    }
   ],
   "source": [
    "#df =df.withColumn(\"metadata\", explode_outer(\"metadata\"))\n",
    "#display(df)"
   ]
  },
  {
   "cell_type": "code",
   "execution_count": 0,
   "metadata": {
    "application/vnd.databricks.v1+cell": {
     "cellMetadata": {
      "byteLimit": 2048000,
      "rowLimit": 10000
     },
     "inputWidgets": {},
     "nuid": "c8f1b3d0-16f7-40af-9a1a-234881cd8bc4",
     "showTitle": false,
     "tableResultSettingsMap": {},
     "title": ""
    }
   },
   "outputs": [
    {
     "output_type": "display_data",
     "data": {
      "text/html": [
       "<style scoped>\n",
       "  .table-result-container {\n",
       "    max-height: 300px;\n",
       "    overflow: auto;\n",
       "  }\n",
       "  table, th, td {\n",
       "    border: 1px solid black;\n",
       "    border-collapse: collapse;\n",
       "  }\n",
       "  th, td {\n",
       "    padding: 5px;\n",
       "  }\n",
       "  th {\n",
       "    text-align: left;\n",
       "  }\n",
       "</style><div class='table-result-container'><table class='table-result'><thead style='background-color: white'><tr><th>order_id</th><th>timestamp</th><th>customer_id</th><th>name</th><th>email</th><th>city</th><th>country</th><th>postal_code</th><th>item_id</th><th>price</th><th>product_name</th><th>quantity</th><th>method</th><th>transaction_id</th><th>key</th><th>value</th></tr></thead><tbody><tr><td>ORD1001</td><td>2025-06-01T10:15:00Z</td><td>501</td><td>John Doe</td><td>john@example.com</td><td>Toronto</td><td>Canada</td><td>M5H 2N2</td><td>I100</td><td>25.99</td><td>Wireless Mouse</td><td>2</td><td>Credit Card</td><td>TXN7890</td><td>campaign</td><td>back_to_school</td></tr><tr><td>ORD1001</td><td>2025-06-01T10:15:00Z</td><td>501</td><td>John Doe</td><td>john@example.com</td><td>Toronto</td><td>Canada</td><td>M5H 2N2</td><td>I100</td><td>25.99</td><td>Wireless Mouse</td><td>2</td><td>Credit Card</td><td>TXN7890</td><td>channel</td><td>email</td></tr><tr><td>ORD1001</td><td>2025-06-01T10:15:00Z</td><td>501</td><td>John Doe</td><td>john@example.com</td><td>Toronto</td><td>Canada</td><td>M5H 2N2</td><td>I101</td><td>15.49</td><td>USB-C Adapter</td><td>1</td><td>Credit Card</td><td>TXN7890</td><td>campaign</td><td>back_to_school</td></tr><tr><td>ORD1001</td><td>2025-06-01T10:15:00Z</td><td>501</td><td>John Doe</td><td>john@example.com</td><td>Toronto</td><td>Canada</td><td>M5H 2N2</td><td>I101</td><td>15.49</td><td>USB-C Adapter</td><td>1</td><td>Credit Card</td><td>TXN7890</td><td>channel</td><td>email</td></tr></tbody></table></div>"
      ]
     },
     "metadata": {
      "application/vnd.databricks.v1+output": {
       "addedWidgets": {},
       "aggData": [],
       "aggError": "",
       "aggOverflow": false,
       "aggSchema": [],
       "aggSeriesLimitReached": false,
       "aggType": "",
       "arguments": {},
       "columnCustomDisplayInfos": {},
       "data": [
        [
         "ORD1001",
         "2025-06-01T10:15:00Z",
         501,
         "John Doe",
         "john@example.com",
         "Toronto",
         "Canada",
         "M5H 2N2",
         "I100",
         25.99,
         "Wireless Mouse",
         2,
         "Credit Card",
         "TXN7890",
         "campaign",
         "back_to_school"
        ],
        [
         "ORD1001",
         "2025-06-01T10:15:00Z",
         501,
         "John Doe",
         "john@example.com",
         "Toronto",
         "Canada",
         "M5H 2N2",
         "I100",
         25.99,
         "Wireless Mouse",
         2,
         "Credit Card",
         "TXN7890",
         "channel",
         "email"
        ],
        [
         "ORD1001",
         "2025-06-01T10:15:00Z",
         501,
         "John Doe",
         "john@example.com",
         "Toronto",
         "Canada",
         "M5H 2N2",
         "I101",
         15.49,
         "USB-C Adapter",
         1,
         "Credit Card",
         "TXN7890",
         "campaign",
         "back_to_school"
        ],
        [
         "ORD1001",
         "2025-06-01T10:15:00Z",
         501,
         "John Doe",
         "john@example.com",
         "Toronto",
         "Canada",
         "M5H 2N2",
         "I101",
         15.49,
         "USB-C Adapter",
         1,
         "Credit Card",
         "TXN7890",
         "channel",
         "email"
        ]
       ],
       "datasetInfos": [],
       "dbfsResultPath": null,
       "isJsonSchema": true,
       "metadata": {},
       "overflow": false,
       "plotOptions": {
        "customPlotOptions": {},
        "displayType": "table",
        "pivotAggregation": null,
        "pivotColumns": null,
        "xColumns": null,
        "yColumns": null
       },
       "removedWidgets": [],
       "schema": [
        {
         "metadata": "{}",
         "name": "order_id",
         "type": "\"string\""
        },
        {
         "metadata": "{}",
         "name": "timestamp",
         "type": "\"string\""
        },
        {
         "metadata": "{}",
         "name": "customer_id",
         "type": "\"long\""
        },
        {
         "metadata": "{}",
         "name": "name",
         "type": "\"string\""
        },
        {
         "metadata": "{}",
         "name": "email",
         "type": "\"string\""
        },
        {
         "metadata": "{}",
         "name": "city",
         "type": "\"string\""
        },
        {
         "metadata": "{}",
         "name": "country",
         "type": "\"string\""
        },
        {
         "metadata": "{}",
         "name": "postal_code",
         "type": "\"string\""
        },
        {
         "metadata": "{}",
         "name": "item_id",
         "type": "\"string\""
        },
        {
         "metadata": "{}",
         "name": "price",
         "type": "\"double\""
        },
        {
         "metadata": "{}",
         "name": "product_name",
         "type": "\"string\""
        },
        {
         "metadata": "{}",
         "name": "quantity",
         "type": "\"long\""
        },
        {
         "metadata": "{}",
         "name": "method",
         "type": "\"string\""
        },
        {
         "metadata": "{}",
         "name": "transaction_id",
         "type": "\"string\""
        },
        {
         "metadata": "{}",
         "name": "key",
         "type": "\"string\""
        },
        {
         "metadata": "{}",
         "name": "value",
         "type": "\"string\""
        }
       ],
       "type": "table"
      }
     },
     "output_type": "display_data"
    }
   ],
   "source": [
    "#df = df.select(\"order_id\", \"timestamp\", \"customer_id\", \"name\", \"email\", \"city\", \"country\", \"postal_code\", \"item_id\", \"price\", \"product_name\", \"quantity\", \"method\", \"transaction_id\", \"metadata.key\", \"metadata.value\")\n",
    "\n",
    "#display(df)"
   ]
  },
  {
   "cell_type": "markdown",
   "metadata": {
    "application/vnd.databricks.v1+cell": {
     "cellMetadata": {},
     "inputWidgets": {},
     "nuid": "b27b0f53-b4a6-4369-bd6b-1f86c84cf2d8",
     "showTitle": false,
     "tableResultSettingsMap": {},
     "title": ""
    }
   },
   "source": [
    "# Read Streaming Data"
   ]
  },
  {
   "cell_type": "code",
   "execution_count": 0,
   "metadata": {
    "application/vnd.databricks.v1+cell": {
     "cellMetadata": {
      "byteLimit": 2048000,
      "rowLimit": 10000
     },
     "inputWidgets": {},
     "nuid": "1fa96e66-829a-4ff2-a774-8e6a06e1a54a",
     "showTitle": false,
     "tableResultSettingsMap": {},
     "title": ""
    }
   },
   "outputs": [],
   "source": [
    "my_shcema = \"\"\" order_id STRING,\n",
    "            timestamp STRING,\n",
    "            customer STRUCT<\n",
    "                customer_id: INT,\n",
    "                name: STRING,\n",
    "                email: STRING,\n",
    "                address: STRUCT<\n",
    "                    city: STRING,\n",
    "                    postal_code: STRING,\n",
    "                    country: STRING\n",
    "                >\n",
    "            >,\n",
    "            items ARRAY<STRUCT<\n",
    "                item_id: STRING,\n",
    "                product_name: STRING,\n",
    "                quantity: INT,\n",
    "                price: DOUBLE\n",
    "            >>,\n",
    "            payment STRUCT<\n",
    "                method: STRING,\n",
    "                transaction_id: STRING\n",
    "            >,\n",
    "            metadata ARRAY<STRUCT<\n",
    "            key: STRING,\n",
    "            value: STRING\n",
    "            >>\"\"\""
   ]
  },
  {
   "cell_type": "code",
   "execution_count": 0,
   "metadata": {
    "application/vnd.databricks.v1+cell": {
     "cellMetadata": {
      "byteLimit": 2048000,
      "rowLimit": 10000
     },
     "inputWidgets": {},
     "nuid": "aad2dba5-51ec-444b-9265-2b43e5c47831",
     "showTitle": false,
     "tableResultSettingsMap": {},
     "title": ""
    }
   },
   "outputs": [],
   "source": [
    "#Shcema Inference for streaminging\n",
    "#spark.conf.set(\"spark.sql.streaming.schemaInference\", True)\n",
    "\n",
    "df = spark.readStream.format(\"json\")\\\n",
    "            .option(\"multiline\",True)\\\n",
    "            .schema(my_shcema)\\\n",
    "            .load(\"/Volumes/workspace/stream/streaming/jsonsource/\")\n",
    "\n",
    "#Transformations \n",
    "\n",
    "df = df.select(\"order_id\", \"timestamp\",\"customer.customer_id\",\"customer.name\",\"customer.email\",\"customer.address.city\",\"customer.address.country\",\"customer.address.postal_code\", \"items\", \"payment.method\", \"payment.transaction_id\", \"metadata\")\n",
    "\n",
    "df =df.withColumn(\"items\", explode_outer(\"items\"))\n",
    "\n",
    "df = df.select(\"order_id\", \"timestamp\", \"customer_id\", \"name\", \"email\", \"city\", \"country\", \"postal_code\", \"items.item_id\", \"items.price\", \"items.product_name\", \"items.quantity\", \"method\", \"transaction_id\", \"metadata\")\n",
    "\n",
    "df =df.withColumn(\"metadata\", explode_outer(\"metadata\"))\n",
    "\n",
    "df = df.select(\"order_id\", \"timestamp\", \"customer_id\", \"name\", \"email\", \"city\", \"country\", \"postal_code\", \"item_id\", \"price\", \"product_name\", \"quantity\", \"method\", \"transaction_id\", \"metadata.key\", \"metadata.value\")\n",
    "\n"
   ]
  },
  {
   "cell_type": "code",
   "execution_count": 0,
   "metadata": {
    "application/vnd.databricks.v1+cell": {
     "cellMetadata": {
      "byteLimit": 2048000,
      "rowLimit": 10000
     },
     "inputWidgets": {},
     "nuid": "8e6af293-f3c4-4156-a7e8-948fc4367534",
     "showTitle": false,
     "tableResultSettingsMap": {},
     "title": ""
    }
   },
   "outputs": [
    {
     "output_type": "execute_result",
     "data": {
      "text/plain": [
       "<pyspark.sql.connect.streaming.query.StreamingQuery at 0xfff5d1741850>"
      ]
     },
     "execution_count": 328,
     "metadata": {},
     "output_type": "execute_result"
    }
   ],
   "source": [
    "df.writeStream.format(\"delta\")\\\n",
    "    .outputMode(\"append\")\\\n",
    "    .trigger(once=True)\\\n",
    "    .option(\"checkpointLocation\", \"/Volumes/workspace/stream/streaming/jsonsink/checkpoint\")\\\n",
    "    .option(\"path\", \"/Volumes/workspace/stream/streaming/jsonsink/dData\")\\\n",
    "    .start()"
   ]
  },
  {
   "cell_type": "code",
   "execution_count": 0,
   "metadata": {
    "application/vnd.databricks.v1+cell": {
     "cellMetadata": {
      "byteLimit": 2048000,
      "implicitDf": true,
      "rowLimit": 10000
     },
     "inputWidgets": {},
     "nuid": "9ec0e6d2-e799-4fc0-8453-f05accade55a",
     "showTitle": false,
     "tableResultSettingsMap": {},
     "title": ""
    }
   },
   "outputs": [
    {
     "output_type": "display_data",
     "data": {
      "text/html": [
       "<style scoped>\n",
       "  .table-result-container {\n",
       "    max-height: 300px;\n",
       "    overflow: auto;\n",
       "  }\n",
       "  table, th, td {\n",
       "    border: 1px solid black;\n",
       "    border-collapse: collapse;\n",
       "  }\n",
       "  th, td {\n",
       "    padding: 5px;\n",
       "  }\n",
       "  th {\n",
       "    text-align: left;\n",
       "  }\n",
       "</style><div class='table-result-container'><table class='table-result'><thead style='background-color: white'><tr><th>order_id</th><th>timestamp</th><th>customer_id</th><th>name</th><th>email</th><th>city</th><th>country</th><th>postal_code</th><th>item_id</th><th>price</th><th>product_name</th><th>quantity</th><th>method</th><th>transaction_id</th><th>key</th><th>value</th></tr></thead><tbody><tr><td>ORD1001</td><td>2025-06-01T10:15:00Z</td><td>501</td><td>John Doe</td><td>john@example.com</td><td>Toronto</td><td>Canada</td><td>M5H 2N2</td><td>I100</td><td>25.99</td><td>Wireless Mouse</td><td>2</td><td>Credit Card</td><td>TXN7890</td><td>campaign</td><td>back_to_school</td></tr><tr><td>ORD1001</td><td>2025-06-01T10:15:00Z</td><td>501</td><td>John Doe</td><td>john@example.com</td><td>Toronto</td><td>Canada</td><td>M5H 2N2</td><td>I100</td><td>25.99</td><td>Wireless Mouse</td><td>2</td><td>Credit Card</td><td>TXN7890</td><td>channel</td><td>email</td></tr><tr><td>ORD1001</td><td>2025-06-01T10:15:00Z</td><td>501</td><td>John Doe</td><td>john@example.com</td><td>Toronto</td><td>Canada</td><td>M5H 2N2</td><td>I101</td><td>15.49</td><td>USB-C Adapter</td><td>1</td><td>Credit Card</td><td>TXN7890</td><td>campaign</td><td>back_to_school</td></tr><tr><td>ORD1001</td><td>2025-06-01T10:15:00Z</td><td>501</td><td>John Doe</td><td>john@example.com</td><td>Toronto</td><td>Canada</td><td>M5H 2N2</td><td>I101</td><td>15.49</td><td>USB-C Adapter</td><td>1</td><td>Credit Card</td><td>TXN7890</td><td>channel</td><td>email</td></tr><tr><td>ORD1002</td><td>2025-06-01T10:30:00Z</td><td>502</td><td>Alice Smith</td><td>alice@example.com</td><td>Vancouver</td><td>Canada</td><td>V5K 0A1</td><td>I102</td><td>45.0</td><td>Bluetooth Keyboard</td><td>1</td><td>PayPal</td><td>TXN7891</td><td>campaign</td><td>cyber_monday</td></tr><tr><td>ORD1002</td><td>2025-06-01T10:30:00Z</td><td>502</td><td>Alice Smith</td><td>alice@example.com</td><td>Vancouver</td><td>Canada</td><td>V5K 0A1</td><td>I102</td><td>45.0</td><td>Bluetooth Keyboard</td><td>1</td><td>PayPal</td><td>TXN7891</td><td>channel</td><td>affiliate</td></tr></tbody></table></div>"
      ]
     },
     "metadata": {
      "application/vnd.databricks.v1+output": {
       "addedWidgets": {},
       "aggData": [],
       "aggError": "",
       "aggOverflow": false,
       "aggSchema": [],
       "aggSeriesLimitReached": false,
       "aggType": "",
       "arguments": {},
       "columnCustomDisplayInfos": {},
       "data": [
        [
         "ORD1001",
         "2025-06-01T10:15:00Z",
         501,
         "John Doe",
         "john@example.com",
         "Toronto",
         "Canada",
         "M5H 2N2",
         "I100",
         25.99,
         "Wireless Mouse",
         2,
         "Credit Card",
         "TXN7890",
         "campaign",
         "back_to_school"
        ],
        [
         "ORD1001",
         "2025-06-01T10:15:00Z",
         501,
         "John Doe",
         "john@example.com",
         "Toronto",
         "Canada",
         "M5H 2N2",
         "I100",
         25.99,
         "Wireless Mouse",
         2,
         "Credit Card",
         "TXN7890",
         "channel",
         "email"
        ],
        [
         "ORD1001",
         "2025-06-01T10:15:00Z",
         501,
         "John Doe",
         "john@example.com",
         "Toronto",
         "Canada",
         "M5H 2N2",
         "I101",
         15.49,
         "USB-C Adapter",
         1,
         "Credit Card",
         "TXN7890",
         "campaign",
         "back_to_school"
        ],
        [
         "ORD1001",
         "2025-06-01T10:15:00Z",
         501,
         "John Doe",
         "john@example.com",
         "Toronto",
         "Canada",
         "M5H 2N2",
         "I101",
         15.49,
         "USB-C Adapter",
         1,
         "Credit Card",
         "TXN7890",
         "channel",
         "email"
        ],
        [
         "ORD1002",
         "2025-06-01T10:30:00Z",
         502,
         "Alice Smith",
         "alice@example.com",
         "Vancouver",
         "Canada",
         "V5K 0A1",
         "I102",
         45.0,
         "Bluetooth Keyboard",
         1,
         "PayPal",
         "TXN7891",
         "campaign",
         "cyber_monday"
        ],
        [
         "ORD1002",
         "2025-06-01T10:30:00Z",
         502,
         "Alice Smith",
         "alice@example.com",
         "Vancouver",
         "Canada",
         "V5K 0A1",
         "I102",
         45.0,
         "Bluetooth Keyboard",
         1,
         "PayPal",
         "TXN7891",
         "channel",
         "affiliate"
        ]
       ],
       "datasetInfos": [
        {
         "name": "_sqldf",
         "schema": {
          "fields": [
           {
            "metadata": {},
            "name": "order_id",
            "nullable": true,
            "type": "string"
           },
           {
            "metadata": {},
            "name": "timestamp",
            "nullable": true,
            "type": "string"
           },
           {
            "metadata": {},
            "name": "customer_id",
            "nullable": true,
            "type": "integer"
           },
           {
            "metadata": {},
            "name": "name",
            "nullable": true,
            "type": "string"
           },
           {
            "metadata": {},
            "name": "email",
            "nullable": true,
            "type": "string"
           },
           {
            "metadata": {},
            "name": "city",
            "nullable": true,
            "type": "string"
           },
           {
            "metadata": {},
            "name": "country",
            "nullable": true,
            "type": "string"
           },
           {
            "metadata": {},
            "name": "postal_code",
            "nullable": true,
            "type": "string"
           },
           {
            "metadata": {},
            "name": "item_id",
            "nullable": true,
            "type": "string"
           },
           {
            "metadata": {},
            "name": "price",
            "nullable": true,
            "type": "double"
           },
           {
            "metadata": {},
            "name": "product_name",
            "nullable": true,
            "type": "string"
           },
           {
            "metadata": {},
            "name": "quantity",
            "nullable": true,
            "type": "integer"
           },
           {
            "metadata": {},
            "name": "method",
            "nullable": true,
            "type": "string"
           },
           {
            "metadata": {},
            "name": "transaction_id",
            "nullable": true,
            "type": "string"
           },
           {
            "metadata": {},
            "name": "key",
            "nullable": true,
            "type": "string"
           },
           {
            "metadata": {},
            "name": "value",
            "nullable": true,
            "type": "string"
           }
          ],
          "type": "struct"
         },
         "tableIdentifier": null,
         "typeStr": "pyspark.sql.connect.dataframe.DataFrame"
        }
       ],
       "dbfsResultPath": null,
       "isJsonSchema": true,
       "metadata": {
        "createTempViewForImplicitDf": true,
        "dataframeName": "_sqldf",
        "executionCount": 329
       },
       "overflow": false,
       "plotOptions": {
        "customPlotOptions": {},
        "displayType": "table",
        "pivotAggregation": null,
        "pivotColumns": null,
        "xColumns": null,
        "yColumns": null
       },
       "removedWidgets": [],
       "schema": [
        {
         "metadata": "{}",
         "name": "order_id",
         "type": "\"string\""
        },
        {
         "metadata": "{}",
         "name": "timestamp",
         "type": "\"string\""
        },
        {
         "metadata": "{}",
         "name": "customer_id",
         "type": "\"integer\""
        },
        {
         "metadata": "{}",
         "name": "name",
         "type": "\"string\""
        },
        {
         "metadata": "{}",
         "name": "email",
         "type": "\"string\""
        },
        {
         "metadata": "{}",
         "name": "city",
         "type": "\"string\""
        },
        {
         "metadata": "{}",
         "name": "country",
         "type": "\"string\""
        },
        {
         "metadata": "{}",
         "name": "postal_code",
         "type": "\"string\""
        },
        {
         "metadata": "{}",
         "name": "item_id",
         "type": "\"string\""
        },
        {
         "metadata": "{}",
         "name": "price",
         "type": "\"double\""
        },
        {
         "metadata": "{}",
         "name": "product_name",
         "type": "\"string\""
        },
        {
         "metadata": "{}",
         "name": "quantity",
         "type": "\"integer\""
        },
        {
         "metadata": "{}",
         "name": "method",
         "type": "\"string\""
        },
        {
         "metadata": "{}",
         "name": "transaction_id",
         "type": "\"string\""
        },
        {
         "metadata": "{}",
         "name": "key",
         "type": "\"string\""
        },
        {
         "metadata": "{}",
         "name": "value",
         "type": "\"string\""
        }
       ],
       "type": "table"
      }
     },
     "output_type": "display_data"
    }
   ],
   "source": [
    "%sql\n",
    "SELECT * FROM delta.`/Volumes/workspace/stream/streaming/jsonsink/dData/`"
   ]
  },
  {
   "cell_type": "markdown",
   "metadata": {
    "application/vnd.databricks.v1+cell": {
     "cellMetadata": {},
     "inputWidgets": {},
     "nuid": "bb744a45-6ee2-499d-80a5-a815544c0e25",
     "showTitle": false,
     "tableResultSettingsMap": {},
     "title": ""
    }
   },
   "source": [
    "# Archiving"
   ]
  },
  {
   "cell_type": "code",
   "execution_count": 0,
   "metadata": {
    "application/vnd.databricks.v1+cell": {
     "cellMetadata": {
      "byteLimit": 2048000,
      "rowLimit": 10000
     },
     "inputWidgets": {},
     "nuid": "40f34f34-be87-41e4-b72f-97efd8eef92e",
     "showTitle": false,
     "tableResultSettingsMap": {},
     "title": ""
    }
   },
   "outputs": [
    {
     "output_type": "execute_result",
     "data": {
      "text/plain": [
       "True"
      ]
     },
     "execution_count": 694,
     "metadata": {},
     "output_type": "execute_result"
    }
   ],
   "source": [
    "dbutils.fs.mkdirs(\"/Volumes/workspace/stream/streaming/jsonsourcesinknew\")"
   ]
  },
  {
   "cell_type": "code",
   "execution_count": 0,
   "metadata": {
    "application/vnd.databricks.v1+cell": {
     "cellMetadata": {
      "byteLimit": 2048000,
      "rowLimit": 10000
     },
     "inputWidgets": {},
     "nuid": "93e3029f-de95-46fa-b98b-03b8053eabea",
     "showTitle": false,
     "tableResultSettingsMap": {},
     "title": ""
    }
   },
   "outputs": [],
   "source": [
    "df = spark.readStream.format(\"json\")\\\n",
    "            .option(\"multiline\",True)\\\n",
    "            .schema(my_shcema)\\\n",
    "            .option(\"cleanSource\", \"archive\")\\\n",
    "            .option(\"sourceAchiveDir\",\"/Volumes/workspace/stream/streaming/jsonsourceArchive\")\\\n",
    "            .load(\"/Volumes/workspace/stream/streaming/jsonsourcenew\")\n",
    "\n",
    "#Transformations \n",
    "\n",
    "df = df.select(\"order_id\", \"timestamp\",\"customer.customer_id\",\"customer.name\",\"customer.email\",\"customer.address.city\",\"customer.address.country\",\"customer.address.postal_code\", \"items\", \"payment.method\", \"payment.transaction_id\", \"metadata\")\n",
    "\n",
    "df =df.withColumn(\"items\", explode_outer(\"items\"))\n",
    "\n",
    "df = df.select(\"order_id\", \"timestamp\", \"customer_id\", \"name\", \"email\", \"city\", \"country\", \"postal_code\", \"items.item_id\", \"items.price\", \"items.product_name\", \"items.quantity\", \"method\", \"transaction_id\", \"metadata\")\n",
    "\n",
    "df =df.withColumn(\"metadata\", explode_outer(\"metadata\"))\n",
    "\n",
    "df = df.select(\"order_id\", \"timestamp\", \"customer_id\", \"name\", \"email\", \"city\", \"country\", \"postal_code\", \"item_id\", \"price\", \"product_name\", \"quantity\", \"method\", \"transaction_id\", \"metadata.key\", \"metadata.value\")\n"
   ]
  },
  {
   "cell_type": "code",
   "execution_count": 0,
   "metadata": {
    "application/vnd.databricks.v1+cell": {
     "cellMetadata": {
      "byteLimit": 2048000,
      "rowLimit": 10000
     },
     "inputWidgets": {},
     "nuid": "4c910469-47ae-4955-9afd-839507a2577c",
     "showTitle": false,
     "tableResultSettingsMap": {},
     "title": ""
    }
   },
   "outputs": [],
   "source": [
    "df = spark.readStream.format(\"json\")\\\n",
    "    .option(\"multiline\", True)\\\n",
    "    .schema(my_shcema)\\\n",
    "    .option(\"cleanSource\", \"archive\")\\\n",
    "    .option(\"sourceArchiveDir\", \"/Volumes/workspace/stream/streaming/jsonsourceArchive\")\\\n",
    "    .load(\"/Volumes/workspace/stream/streaming/jsonsourcenew\")\n",
    "\n",
    "# Transformations\n",
    "df = df.select(\"order_id\", \"timestamp\",\"customer.customer_id\",\"customer.name\",\"customer.email\",\"customer.address.city\",\"customer.address.country\",\"customer.address.postal_code\", \"items\", \"payment.method\", \"payment.transaction_id\", \"metadata\")\n",
    "\n",
    "df = df.withColumn(\"items\", explode_outer(\"items\"))\n",
    "\n",
    "df = df.select(\"order_id\", \"timestamp\", \"customer_id\", \"name\", \"email\", \"city\", \"country\", \"postal_code\", \"items.item_id\", \"items.price\", \"items.product_name\", \"items.quantity\", \"method\", \"transaction_id\", \"metadata\")\n",
    "\n",
    "df = df.withColumn(\"metadata\", explode_outer(\"metadata\"))\n",
    "\n",
    "df = df.select(\"order_id\", \"timestamp\", \"customer_id\", \"name\", \"email\", \"city\", \"country\", \"postal_code\", \"item_id\", \"price\", \"product_name\", \"quantity\", \"method\", \"transaction_id\", \"metadata.key\", \"metadata.value\")\n"
   ]
  },
  {
   "cell_type": "code",
   "execution_count": 0,
   "metadata": {
    "application/vnd.databricks.v1+cell": {
     "cellMetadata": {
      "byteLimit": 2048000,
      "rowLimit": 10000
     },
     "inputWidgets": {},
     "nuid": "915468ea-ce05-4d70-bc4c-945abaa94361",
     "showTitle": false,
     "tableResultSettingsMap": {},
     "title": ""
    }
   },
   "outputs": [
    {
     "output_type": "execute_result",
     "data": {
      "text/plain": [
       "<pyspark.sql.connect.streaming.query.StreamingQuery at 0xff4767d09590>"
      ]
     },
     "execution_count": 106,
     "metadata": {},
     "output_type": "execute_result"
    }
   ],
   "source": [
    "df.writeStream.format(\"delta\")\\\n",
    "    .outputMode(\"append\")\\\n",
    "    .trigger(once=True)\\\n",
    "    .option(\"path\", \"/Volumes/workspace/stream/streaming/delta_output\")\\\n",
    "    .option(\"checkpointLocation\", \"/Volumes/workspace/stream/streaming/jsonsourcesinknew/checkpoint\")\\\n",
    "    .start()"
   ]
  },
  {
   "cell_type": "code",
   "execution_count": 0,
   "metadata": {
    "application/vnd.databricks.v1+cell": {
     "cellMetadata": {},
     "inputWidgets": {},
     "nuid": "9485edee-f06a-49ea-b2f8-e9ea43a82d3a",
     "showTitle": false,
     "tableResultSettingsMap": {},
     "title": ""
    }
   },
   "outputs": [],
   "source": []
  },
  {
   "cell_type": "code",
   "execution_count": 0,
   "metadata": {
    "application/vnd.databricks.v1+cell": {
     "cellMetadata": {},
     "inputWidgets": {},
     "nuid": "ddc8b7ca-cd41-46db-8e8f-84f2c0931250",
     "showTitle": false,
     "tableResultSettingsMap": {},
     "title": ""
    }
   },
   "outputs": [],
   "source": []
  }
 ],
 "metadata": {
  "application/vnd.databricks.v1+notebook": {
   "computePreferences": null,
   "dashboards": [],
   "environmentMetadata": {
    "base_environment": "",
    "environment_version": "2"
   },
   "inputWidgetPreferences": null,
   "language": "python",
   "notebookMetadata": {
    "mostRecentlyExecutedCommandWithImplicitDF": {
     "commandId": 4702517663227601,
     "dataframes": [
      "_sqldf"
     ]
    },
    "pythonIndentUnit": 4
   },
   "notebookName": "streaming",
   "widgets": {}
  },
  "language_info": {
   "name": "python"
  }
 },
 "nbformat": 4,
 "nbformat_minor": 0
}